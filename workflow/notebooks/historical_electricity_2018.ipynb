{
 "metadata": {
  "language_info": {
   "codemirror_mode": {
    "name": "ipython",
    "version": 3
   },
   "file_extension": ".py",
   "mimetype": "text/x-python",
   "name": "python",
   "nbconvert_exporter": "python",
   "pygments_lexer": "ipython3",
   "version": "3.7.8-final"
  },
  "orig_nbformat": 2,
  "kernelspec": {
   "name": "python3",
   "display_name": "Python 3.7.8 64-bit (conda)",
   "metadata": {
    "interpreter": {
     "hash": "c3701d8ce60510ff4b384ab36bbecdeea1903f1c78859063abf9943fd82ddd59"
    }
   }
  }
 },
 "nbformat": 4,
 "nbformat_minor": 2,
 "cells": [
  {
   "source": [
    "## Historical electricity data"
   ],
   "cell_type": "markdown",
   "metadata": {}
  },
  {
   "cell_type": "code",
   "execution_count": 1,
   "metadata": {},
   "outputs": [],
   "source": [
    "# Import relevant packages\n",
    "import pandas as pd\n",
    "import numpy as np\n",
    "import matplotlib.pyplot as plt\n",
    "import os\n",
    "from openpyxl import Workbook\n",
    "import xlsxwriter\n",
    "import pandas.io.formats.excel\n",
    "import glob\n",
    "import re"
   ]
  },
  {
   "cell_type": "code",
   "execution_count": 3,
   "metadata": {},
   "outputs": [],
   "source": [
    "# Now load the EGEDA_years data frame\n",
    "EGEDA_years = pd.read_csv('../../data/1_EGEDA/EGEDA_2018_years.csv')"
   ]
  },
  {
   "cell_type": "code",
   "execution_count": 5,
   "metadata": {},
   "outputs": [
    {
     "output_type": "execute_result",
     "data": {
      "text/plain": [
       "       economy                  fuel_code                item_code_new  \\\n",
       "93      01_AUS                     1_coal  18_electricity_output_in_pj   \n",
       "188     01_AUS           1_x_coal_thermal  18_electricity_output_in_pj   \n",
       "283     01_AUS            1_1_coking_coal  18_electricity_output_in_pj   \n",
       "378     01_AUS  1_2_other_bituminous_coal  18_electricity_output_in_pj   \n",
       "473     01_AUS     1_3_subbituminous_coal  18_electricity_output_in_pj   \n",
       "...        ...                        ...                          ...   \n",
       "204438    APEC             17_electricity  18_electricity_output_in_pj   \n",
       "204533    APEC                    18_heat  18_electricity_output_in_pj   \n",
       "204628    APEC                   19_total  18_electricity_output_in_pj   \n",
       "204723    APEC        20_total_renewables  18_electricity_output_in_pj   \n",
       "204818    APEC       21_modern_renewables  18_electricity_output_in_pj   \n",
       "\n",
       "                1980          1981          1982          1983          1984  \\\n",
       "93        251.143200    261.752400    267.134400    277.804800    293.868000   \n",
       "188         0.000000      0.000000      0.000000      0.000000      0.000000   \n",
       "283         0.000000      0.000000      0.000000      0.000000      0.000000   \n",
       "378         0.000000      0.000000      0.000000      0.000000      0.000000   \n",
       "473         0.000000      0.000000      0.000000      0.000000      0.000000   \n",
       "...              ...           ...           ...           ...           ...   \n",
       "204438      0.000000      0.000000      0.000000      0.000000      0.000000   \n",
       "204533      0.000000      0.000000      0.000000      0.000000      0.000000   \n",
       "204628  13082.326242  13276.150912  13251.881561  13774.470740  14482.069373   \n",
       "204723   2506.440056   2547.837042   2709.726835   2840.835072   2855.841673   \n",
       "204818   2506.440056   2547.837042   2709.726835   2840.835072   2855.841673   \n",
       "\n",
       "                1985          1986  ...          2009          2010  \\\n",
       "93        321.746400    333.313200  ...    667.213200    646.959600   \n",
       "188         0.000000      0.000000  ...    462.506400    445.406400   \n",
       "283         0.000000      0.000000  ...      0.000000      0.000000   \n",
       "378         0.000000      0.000000  ...    166.978800    282.261600   \n",
       "473         0.000000      0.000000  ...    295.527600    163.144800   \n",
       "...              ...           ...  ...           ...           ...   \n",
       "204438      0.000000      0.000000  ...      0.000000      0.000000   \n",
       "204533      0.000000      0.000000  ...      0.302400      0.547200   \n",
       "204628  14947.259434  15157.222837  ...  45156.223706  48533.812634   \n",
       "204723   2860.583947   2925.834089  ...   6974.504655   7569.447252   \n",
       "204818   2860.583947   2925.834089  ...   7033.926820   7629.695418   \n",
       "\n",
       "                2011          2012          2013          2014          2015  \\\n",
       "93        619.797600    617.911200    572.320800    546.415200    570.801600   \n",
       "188       421.012800    419.954400    401.367600    380.782800    387.504000   \n",
       "283         0.000000      0.000000      0.000000      0.000000      0.000000   \n",
       "378       266.803200    266.133600    254.354400    241.308000    233.604000   \n",
       "473       154.209600    153.820800    147.013200    139.474800    153.900000   \n",
       "...              ...           ...           ...           ...           ...   \n",
       "204438      0.000000      0.000000      0.000000      0.000000      0.000000   \n",
       "204533      0.547200      0.406800      1.105200      1.256400      0.450000   \n",
       "204628  50537.938662  51605.648360  53509.370242  55055.757184  55209.823837   \n",
       "204723   8085.920527   8789.019005   9468.332884  10438.751415  10889.916322   \n",
       "204818   8151.065426   8856.904492   9475.258182  10445.764189  10898.358725   \n",
       "\n",
       "                2016          2017          2018  \n",
       "93        587.152800    582.544800    567.759600  \n",
       "188       411.602400    425.779200    438.130800  \n",
       "283         0.000000      0.000000      0.000000  \n",
       "378       240.786000    246.906000    256.622400  \n",
       "473       170.816400    178.873200    181.508400  \n",
       "...              ...           ...           ...  \n",
       "204438      0.000000      0.000000      0.000000  \n",
       "204533      0.511200      0.413914      0.432407  \n",
       "204628  56801.157400  58566.098208  61614.331915  \n",
       "204723  11853.627657  12871.864091  13762.304247  \n",
       "204818  11863.533586  12882.572053  13774.978721  \n",
       "\n",
       "[2156 rows x 42 columns]"
      ],
      "text/html": "<div>\n<style scoped>\n    .dataframe tbody tr th:only-of-type {\n        vertical-align: middle;\n    }\n\n    .dataframe tbody tr th {\n        vertical-align: top;\n    }\n\n    .dataframe thead th {\n        text-align: right;\n    }\n</style>\n<table border=\"1\" class=\"dataframe\">\n  <thead>\n    <tr style=\"text-align: right;\">\n      <th></th>\n      <th>economy</th>\n      <th>fuel_code</th>\n      <th>item_code_new</th>\n      <th>1980</th>\n      <th>1981</th>\n      <th>1982</th>\n      <th>1983</th>\n      <th>1984</th>\n      <th>1985</th>\n      <th>1986</th>\n      <th>...</th>\n      <th>2009</th>\n      <th>2010</th>\n      <th>2011</th>\n      <th>2012</th>\n      <th>2013</th>\n      <th>2014</th>\n      <th>2015</th>\n      <th>2016</th>\n      <th>2017</th>\n      <th>2018</th>\n    </tr>\n  </thead>\n  <tbody>\n    <tr>\n      <th>93</th>\n      <td>01_AUS</td>\n      <td>1_coal</td>\n      <td>18_electricity_output_in_pj</td>\n      <td>251.143200</td>\n      <td>261.752400</td>\n      <td>267.134400</td>\n      <td>277.804800</td>\n      <td>293.868000</td>\n      <td>321.746400</td>\n      <td>333.313200</td>\n      <td>...</td>\n      <td>667.213200</td>\n      <td>646.959600</td>\n      <td>619.797600</td>\n      <td>617.911200</td>\n      <td>572.320800</td>\n      <td>546.415200</td>\n      <td>570.801600</td>\n      <td>587.152800</td>\n      <td>582.544800</td>\n      <td>567.759600</td>\n    </tr>\n    <tr>\n      <th>188</th>\n      <td>01_AUS</td>\n      <td>1_x_coal_thermal</td>\n      <td>18_electricity_output_in_pj</td>\n      <td>0.000000</td>\n      <td>0.000000</td>\n      <td>0.000000</td>\n      <td>0.000000</td>\n      <td>0.000000</td>\n      <td>0.000000</td>\n      <td>0.000000</td>\n      <td>...</td>\n      <td>462.506400</td>\n      <td>445.406400</td>\n      <td>421.012800</td>\n      <td>419.954400</td>\n      <td>401.367600</td>\n      <td>380.782800</td>\n      <td>387.504000</td>\n      <td>411.602400</td>\n      <td>425.779200</td>\n      <td>438.130800</td>\n    </tr>\n    <tr>\n      <th>283</th>\n      <td>01_AUS</td>\n      <td>1_1_coking_coal</td>\n      <td>18_electricity_output_in_pj</td>\n      <td>0.000000</td>\n      <td>0.000000</td>\n      <td>0.000000</td>\n      <td>0.000000</td>\n      <td>0.000000</td>\n      <td>0.000000</td>\n      <td>0.000000</td>\n      <td>...</td>\n      <td>0.000000</td>\n      <td>0.000000</td>\n      <td>0.000000</td>\n      <td>0.000000</td>\n      <td>0.000000</td>\n      <td>0.000000</td>\n      <td>0.000000</td>\n      <td>0.000000</td>\n      <td>0.000000</td>\n      <td>0.000000</td>\n    </tr>\n    <tr>\n      <th>378</th>\n      <td>01_AUS</td>\n      <td>1_2_other_bituminous_coal</td>\n      <td>18_electricity_output_in_pj</td>\n      <td>0.000000</td>\n      <td>0.000000</td>\n      <td>0.000000</td>\n      <td>0.000000</td>\n      <td>0.000000</td>\n      <td>0.000000</td>\n      <td>0.000000</td>\n      <td>...</td>\n      <td>166.978800</td>\n      <td>282.261600</td>\n      <td>266.803200</td>\n      <td>266.133600</td>\n      <td>254.354400</td>\n      <td>241.308000</td>\n      <td>233.604000</td>\n      <td>240.786000</td>\n      <td>246.906000</td>\n      <td>256.622400</td>\n    </tr>\n    <tr>\n      <th>473</th>\n      <td>01_AUS</td>\n      <td>1_3_subbituminous_coal</td>\n      <td>18_electricity_output_in_pj</td>\n      <td>0.000000</td>\n      <td>0.000000</td>\n      <td>0.000000</td>\n      <td>0.000000</td>\n      <td>0.000000</td>\n      <td>0.000000</td>\n      <td>0.000000</td>\n      <td>...</td>\n      <td>295.527600</td>\n      <td>163.144800</td>\n      <td>154.209600</td>\n      <td>153.820800</td>\n      <td>147.013200</td>\n      <td>139.474800</td>\n      <td>153.900000</td>\n      <td>170.816400</td>\n      <td>178.873200</td>\n      <td>181.508400</td>\n    </tr>\n    <tr>\n      <th>...</th>\n      <td>...</td>\n      <td>...</td>\n      <td>...</td>\n      <td>...</td>\n      <td>...</td>\n      <td>...</td>\n      <td>...</td>\n      <td>...</td>\n      <td>...</td>\n      <td>...</td>\n      <td>...</td>\n      <td>...</td>\n      <td>...</td>\n      <td>...</td>\n      <td>...</td>\n      <td>...</td>\n      <td>...</td>\n      <td>...</td>\n      <td>...</td>\n      <td>...</td>\n      <td>...</td>\n    </tr>\n    <tr>\n      <th>204438</th>\n      <td>APEC</td>\n      <td>17_electricity</td>\n      <td>18_electricity_output_in_pj</td>\n      <td>0.000000</td>\n      <td>0.000000</td>\n      <td>0.000000</td>\n      <td>0.000000</td>\n      <td>0.000000</td>\n      <td>0.000000</td>\n      <td>0.000000</td>\n      <td>...</td>\n      <td>0.000000</td>\n      <td>0.000000</td>\n      <td>0.000000</td>\n      <td>0.000000</td>\n      <td>0.000000</td>\n      <td>0.000000</td>\n      <td>0.000000</td>\n      <td>0.000000</td>\n      <td>0.000000</td>\n      <td>0.000000</td>\n    </tr>\n    <tr>\n      <th>204533</th>\n      <td>APEC</td>\n      <td>18_heat</td>\n      <td>18_electricity_output_in_pj</td>\n      <td>0.000000</td>\n      <td>0.000000</td>\n      <td>0.000000</td>\n      <td>0.000000</td>\n      <td>0.000000</td>\n      <td>0.000000</td>\n      <td>0.000000</td>\n      <td>...</td>\n      <td>0.302400</td>\n      <td>0.547200</td>\n      <td>0.547200</td>\n      <td>0.406800</td>\n      <td>1.105200</td>\n      <td>1.256400</td>\n      <td>0.450000</td>\n      <td>0.511200</td>\n      <td>0.413914</td>\n      <td>0.432407</td>\n    </tr>\n    <tr>\n      <th>204628</th>\n      <td>APEC</td>\n      <td>19_total</td>\n      <td>18_electricity_output_in_pj</td>\n      <td>13082.326242</td>\n      <td>13276.150912</td>\n      <td>13251.881561</td>\n      <td>13774.470740</td>\n      <td>14482.069373</td>\n      <td>14947.259434</td>\n      <td>15157.222837</td>\n      <td>...</td>\n      <td>45156.223706</td>\n      <td>48533.812634</td>\n      <td>50537.938662</td>\n      <td>51605.648360</td>\n      <td>53509.370242</td>\n      <td>55055.757184</td>\n      <td>55209.823837</td>\n      <td>56801.157400</td>\n      <td>58566.098208</td>\n      <td>61614.331915</td>\n    </tr>\n    <tr>\n      <th>204723</th>\n      <td>APEC</td>\n      <td>20_total_renewables</td>\n      <td>18_electricity_output_in_pj</td>\n      <td>2506.440056</td>\n      <td>2547.837042</td>\n      <td>2709.726835</td>\n      <td>2840.835072</td>\n      <td>2855.841673</td>\n      <td>2860.583947</td>\n      <td>2925.834089</td>\n      <td>...</td>\n      <td>6974.504655</td>\n      <td>7569.447252</td>\n      <td>8085.920527</td>\n      <td>8789.019005</td>\n      <td>9468.332884</td>\n      <td>10438.751415</td>\n      <td>10889.916322</td>\n      <td>11853.627657</td>\n      <td>12871.864091</td>\n      <td>13762.304247</td>\n    </tr>\n    <tr>\n      <th>204818</th>\n      <td>APEC</td>\n      <td>21_modern_renewables</td>\n      <td>18_electricity_output_in_pj</td>\n      <td>2506.440056</td>\n      <td>2547.837042</td>\n      <td>2709.726835</td>\n      <td>2840.835072</td>\n      <td>2855.841673</td>\n      <td>2860.583947</td>\n      <td>2925.834089</td>\n      <td>...</td>\n      <td>7033.926820</td>\n      <td>7629.695418</td>\n      <td>8151.065426</td>\n      <td>8856.904492</td>\n      <td>9475.258182</td>\n      <td>10445.764189</td>\n      <td>10898.358725</td>\n      <td>11863.533586</td>\n      <td>12882.572053</td>\n      <td>13774.978721</td>\n    </tr>\n  </tbody>\n</table>\n<p>2156 rows × 42 columns</p>\n</div>"
     },
     "metadata": {},
     "execution_count": 5
    }
   ],
   "source": [
    "EGEDA_years[EGEDA_years['item_code_new'] == '18_electricity_output_in_pj']"
   ]
  },
  {
   "cell_type": "code",
   "execution_count": null,
   "metadata": {},
   "outputs": [],
   "source": []
  }
 ]
}