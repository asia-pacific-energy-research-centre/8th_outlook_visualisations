{
 "metadata": {
  "language_info": {
   "codemirror_mode": {
    "name": "ipython",
    "version": 3
   },
   "file_extension": ".py",
   "mimetype": "text/x-python",
   "name": "python",
   "nbconvert_exporter": "python",
   "pygments_lexer": "ipython3",
   "version": "3.7.7-final"
  },
  "orig_nbformat": 2,
  "kernelspec": {
   "name": "python3",
   "display_name": "Python 3",
   "language": "python"
  }
 },
 "nbformat": 4,
 "nbformat_minor": 2,
 "cells": [
  {
   "source": [
    "## Historical emissions"
   ],
   "cell_type": "markdown",
   "metadata": {}
  },
  {
   "cell_type": "code",
   "execution_count": 90,
   "metadata": {},
   "outputs": [],
   "source": [
    "# Import relevant packages\n",
    "import pandas as pd\n",
    "import numpy as np\n",
    "import matplotlib.pyplot as plt\n",
    "import os\n",
    "from openpyxl import Workbook\n",
    "import xlsxwriter\n",
    "import pandas.io.formats.excel\n",
    "import glob\n",
    "import re"
   ]
  },
  {
   "cell_type": "code",
   "execution_count": 91,
   "metadata": {},
   "outputs": [],
   "source": [
    "# Path for OSeMOSYS output\n",
    "path_output = './data/3_OSeMOSYS_output'\n",
    "\n",
    "# Path for OSeMOSYS to EGEDA mapping\n",
    "path_mapping = './data/2_Mapping_and_other'\n",
    "\n",
    "# Where to save finalised dataframe\n",
    "path_final = './data/4_Joined'\n",
    "\n",
    "# OSeMOSYS results files\n",
    "OSeMOSYS_filenames = glob.glob(path_output + \"/*.xlsx\")"
   ]
  },
  {
   "cell_type": "code",
   "execution_count": 92,
   "metadata": {},
   "outputs": [
    {
     "output_type": "execute_result",
     "data": {
      "text/plain": [
       "  economy fuel_code            item_code_new  1980  1981  1982  1983  1984  \\\n",
       "0  01_AUS  10_hydro  1_indigenous_production   0.0   0.0   0.0   0.0   0.0   \n",
       "1  01_AUS  10_hydro                2_imports   0.0   0.0   0.0   0.0   0.0   \n",
       "\n",
       "   1985  1986  ...  2009  2010  2011  2012  2013  2014  2015  2016  2017  2018  \n",
       "0   0.0   0.0  ...   0.0   0.0   0.0   0.0   0.0   0.0   0.0   0.0   0.0   0.0  \n",
       "1   0.0   0.0  ...   0.0   0.0   0.0   0.0   0.0   0.0   0.0   0.0   0.0   0.0  \n",
       "\n",
       "[2 rows x 42 columns]"
      ],
      "text/html": "<div>\n<style scoped>\n    .dataframe tbody tr th:only-of-type {\n        vertical-align: middle;\n    }\n\n    .dataframe tbody tr th {\n        vertical-align: top;\n    }\n\n    .dataframe thead th {\n        text-align: right;\n    }\n</style>\n<table border=\"1\" class=\"dataframe\">\n  <thead>\n    <tr style=\"text-align: right;\">\n      <th></th>\n      <th>economy</th>\n      <th>fuel_code</th>\n      <th>item_code_new</th>\n      <th>1980</th>\n      <th>1981</th>\n      <th>1982</th>\n      <th>1983</th>\n      <th>1984</th>\n      <th>1985</th>\n      <th>1986</th>\n      <th>...</th>\n      <th>2009</th>\n      <th>2010</th>\n      <th>2011</th>\n      <th>2012</th>\n      <th>2013</th>\n      <th>2014</th>\n      <th>2015</th>\n      <th>2016</th>\n      <th>2017</th>\n      <th>2018</th>\n    </tr>\n  </thead>\n  <tbody>\n    <tr>\n      <th>0</th>\n      <td>01_AUS</td>\n      <td>10_hydro</td>\n      <td>1_indigenous_production</td>\n      <td>0.0</td>\n      <td>0.0</td>\n      <td>0.0</td>\n      <td>0.0</td>\n      <td>0.0</td>\n      <td>0.0</td>\n      <td>0.0</td>\n      <td>...</td>\n      <td>0.0</td>\n      <td>0.0</td>\n      <td>0.0</td>\n      <td>0.0</td>\n      <td>0.0</td>\n      <td>0.0</td>\n      <td>0.0</td>\n      <td>0.0</td>\n      <td>0.0</td>\n      <td>0.0</td>\n    </tr>\n    <tr>\n      <th>1</th>\n      <td>01_AUS</td>\n      <td>10_hydro</td>\n      <td>2_imports</td>\n      <td>0.0</td>\n      <td>0.0</td>\n      <td>0.0</td>\n      <td>0.0</td>\n      <td>0.0</td>\n      <td>0.0</td>\n      <td>0.0</td>\n      <td>...</td>\n      <td>0.0</td>\n      <td>0.0</td>\n      <td>0.0</td>\n      <td>0.0</td>\n      <td>0.0</td>\n      <td>0.0</td>\n      <td>0.0</td>\n      <td>0.0</td>\n      <td>0.0</td>\n      <td>0.0</td>\n    </tr>\n  </tbody>\n</table>\n<p>2 rows × 42 columns</p>\n</div>"
     },
     "metadata": {},
     "execution_count": 92
    }
   ],
   "source": [
    "# Load historical emissions\n",
    "\n",
    "EGEDA_emissions = pd.read_csv('../../../data/1_EGEDA/EGEDA_FC_CO2_Emissions_years_2018.csv')\n",
    "EGEDA_emissions.head(2)"
   ]
  },
  {
   "cell_type": "code",
   "execution_count": 93,
   "metadata": {},
   "outputs": [
    {
     "output_type": "execute_result",
     "data": {
      "text/plain": [
       "  economy fuel_code            item_code_new  1980  1981  1982  1983  1984  \\\n",
       "0  01_AUS  10_hydro  1_indigenous_production   0.0   0.0   0.0   0.0   0.0   \n",
       "1  01_AUS  10_hydro                2_imports   0.0   0.0   0.0   0.0   0.0   \n",
       "\n",
       "   1985  1986  ...  2009  2010  2011  2012  2013  2014  2015  2016  2017  2018  \n",
       "0   0.0   0.0  ...   0.0   0.0   0.0   0.0   0.0   0.0   0.0   0.0   0.0   0.0  \n",
       "1   0.0   0.0  ...   0.0   0.0   0.0   0.0   0.0   0.0   0.0   0.0   0.0   0.0  \n",
       "\n",
       "[2 rows x 42 columns]"
      ],
      "text/html": "<div>\n<style scoped>\n    .dataframe tbody tr th:only-of-type {\n        vertical-align: middle;\n    }\n\n    .dataframe tbody tr th {\n        vertical-align: top;\n    }\n\n    .dataframe thead th {\n        text-align: right;\n    }\n</style>\n<table border=\"1\" class=\"dataframe\">\n  <thead>\n    <tr style=\"text-align: right;\">\n      <th></th>\n      <th>economy</th>\n      <th>fuel_code</th>\n      <th>item_code_new</th>\n      <th>1980</th>\n      <th>1981</th>\n      <th>1982</th>\n      <th>1983</th>\n      <th>1984</th>\n      <th>1985</th>\n      <th>1986</th>\n      <th>...</th>\n      <th>2009</th>\n      <th>2010</th>\n      <th>2011</th>\n      <th>2012</th>\n      <th>2013</th>\n      <th>2014</th>\n      <th>2015</th>\n      <th>2016</th>\n      <th>2017</th>\n      <th>2018</th>\n    </tr>\n  </thead>\n  <tbody>\n    <tr>\n      <th>0</th>\n      <td>01_AUS</td>\n      <td>10_hydro</td>\n      <td>1_indigenous_production</td>\n      <td>0.0</td>\n      <td>0.0</td>\n      <td>0.0</td>\n      <td>0.0</td>\n      <td>0.0</td>\n      <td>0.0</td>\n      <td>0.0</td>\n      <td>...</td>\n      <td>0.0</td>\n      <td>0.0</td>\n      <td>0.0</td>\n      <td>0.0</td>\n      <td>0.0</td>\n      <td>0.0</td>\n      <td>0.0</td>\n      <td>0.0</td>\n      <td>0.0</td>\n      <td>0.0</td>\n    </tr>\n    <tr>\n      <th>1</th>\n      <td>01_AUS</td>\n      <td>10_hydro</td>\n      <td>2_imports</td>\n      <td>0.0</td>\n      <td>0.0</td>\n      <td>0.0</td>\n      <td>0.0</td>\n      <td>0.0</td>\n      <td>0.0</td>\n      <td>0.0</td>\n      <td>...</td>\n      <td>0.0</td>\n      <td>0.0</td>\n      <td>0.0</td>\n      <td>0.0</td>\n      <td>0.0</td>\n      <td>0.0</td>\n      <td>0.0</td>\n      <td>0.0</td>\n      <td>0.0</td>\n      <td>0.0</td>\n    </tr>\n  </tbody>\n</table>\n<p>2 rows × 42 columns</p>\n</div>"
     },
     "metadata": {},
     "execution_count": 93
    }
   ],
   "source": [
    "# Remove all aggregate variables as they're zero\n",
    "\n",
    "agg_fuel = ['1_coal', '1_x_coal_thermal', '2_coal_products', '6_crude_oil_and_ngl', '6_x_ngls', '7_petroleum_products', '7_x_jet_fuel', '7_x_other_petroleum_products', '8_gas', '16_others', '19_total']\n",
    "\n",
    "EGEDA_emissions = EGEDA_emissions[~EGEDA_emissions['fuel_code'].isin(agg_fuel)].reset_index(drop = True)\n",
    "EGEDA_emissions.head(2)"
   ]
  },
  {
   "cell_type": "code",
   "execution_count": 94,
   "metadata": {},
   "outputs": [],
   "source": [
    "########################## fuel_code aggregations ##########################\n",
    "\n",
    "# lowest level\n",
    "\n",
    "thermal_coal = ['1_2_other_bituminous_coal', '1_3_subbituminous_coal', '1_4_anthracite', '3_peat', '4_peat_products']\n",
    "ngl = ['6_2_natural_gas_liquids', '6_3_refinery_feedstocks', '6_4_additives_oxygenates', '6_5_other_hydrocarbons']\n",
    "other_petrol = ['7_12_white_spirit_sbp', '7_13_lubricants', '7_14_bitumen', '7_15_paraffin_waxes', '7_16_petroleum_coke', '7_17_other_products']\n",
    "jetfuel = ['7_4_gasoline_type_jet_fuel', '7_5_kerosene_type_jet_fuel']\n",
    "\n",
    "# First level\n",
    "coal_fuels = ['1_1_coking_coal', '1_5_lignite', '1_x_coal_thermal']\n",
    "coal_prod_fuels = ['2_1_coke_oven_coke', '2_2_coke_oven_gas', '2_3_blast_furnace_gas', '2_4_other_recovered_gases', '2_5_patent_fuel', '2_6_coal_tar', '2_7_bkb_pb']\n",
    "oil_fuels = ['6_1_crude_oil', '6_x_ngls']\n",
    "petrol_fuels = ['7_1_motor_gasoline', '7_2_aviation_gasoline', '7_3_naphtha', '7_x_jet_fuel', '7_6_kerosene', '7_7_gas_diesel_oil',\n",
    "                '7_8_fuel_oil', '7_9_lpg', '7_10_refinery_gas_not_liquefied', '7_11_ethane', '7_x_other_petroleum_products']\n",
    "gas_fuels = ['8_1_natural_gas', '8_2_lng', '8_3_gas_works_gas']\n",
    "other_fuels = ['16_1_biogas', '16_2_industrial_waste', '16_3_municipal_solid_waste_renewable', '16_4_municipal_solid_waste_nonrenewable', '16_5_biogasoline', '16_6_biodiesel',\n",
    "               '16_7_bio_jet_kerosene', '16_8_other_liquid_biofuels', '16_9_other_sources', '16_x_hydrogen']\n",
    "\n",
    "# Total\n",
    "total_fuels = ['1_coal', '2_coal_products', '5_oil_shale_and_oil_sands', '6_crude_oil_and_ngl', '7_petroleum_products', '8_gas', '9_nuclear', '10_hydro', '11_geothermal',\n",
    "               '12_solar', '13_tide_wave_ocean', '14_wind', '15_solid_biomass', '16_others', '17_electricity', '18_heat']\n",
    "\n",
    "# For finishing dataframe\n",
    "key_variables = ['economy', 'fuel_code', 'item_code_new']\n",
    "\n",
    "historical_years = list(range(1980, 2019, 1))"
   ]
  },
  {
   "cell_type": "code",
   "execution_count": 95,
   "metadata": {},
   "outputs": [],
   "source": [
    "# Aggregations\n",
    "\n",
    "EGEDA_aggregate = pd.DataFrame()\n",
    "\n",
    "# Then loop through based on different regions/economies and stitch back together\n",
    "\n",
    "for region in EGEDA_emissions['economy'].unique():\n",
    "    interim_df1 = EGEDA_emissions[EGEDA_emissions['economy'] == region]\n",
    "    \n",
    "    thermal_agg = interim_df1[interim_df1['fuel_code'].isin(thermal_coal)].groupby(['item_code_new'])\\\n",
    "        .sum().assign(fuel_code = '1_x_coal_thermal').reset_index()\n",
    "\n",
    "    ngl_agg = interim_df1[interim_df1['fuel_code'].isin(ngl)].groupby(['item_code_new'])\\\n",
    "        .sum().assign(fuel_code = '6_x_ngls').reset_index()\n",
    "\n",
    "    oth_pet_agg = interim_df1[interim_df1['fuel_code'].isin(other_petrol)].groupby(['item_code_new'])\\\n",
    "        .sum().assign(fuel_code = '7_x_other_petroleum_products').reset_index()\n",
    "\n",
    "    jetfuel_agg = interim_df1[interim_df1['fuel_code'].isin(jetfuel)].groupby(['item_code_new'])\\\n",
    "        .sum().assign(fuel_code = '7_x_jet_fuel').reset_index()\n",
    "        \n",
    "    coal = interim_df1[interim_df1['fuel_code'].isin(coal_fuels)].groupby(['item_code_new'])\\\n",
    "        .sum().assign(fuel_code = '1_coal').reset_index()\n",
    "\n",
    "    coal_prod = interim_df1[interim_df1['fuel_code'].isin(coal_prod_fuels)].groupby(['item_code_new'])\\\n",
    "        .sum().assign(fuel_code = '2_coal_products').reset_index()\n",
    "        \n",
    "    oil = interim_df1[interim_df1['fuel_code'].isin(oil_fuels)].groupby(['item_code_new'])\\\n",
    "        .sum().assign(fuel_code = '6_crude_oil_and_ngl').reset_index()\n",
    "        \n",
    "    petrol = interim_df1[interim_df1['fuel_code'].isin(petrol_fuels)].groupby(['item_code_new'])\\\n",
    "        .sum().assign(fuel_code = '7_petroleum_products').reset_index()\n",
    "        \n",
    "    gas = interim_df1[interim_df1['fuel_code'].isin(gas_fuels)].groupby(['item_code_new'])\\\n",
    "        .sum().assign(fuel_code = '8_gas').reset_index()\n",
    "\n",
    "    others = interim_df1[interim_df1['fuel_code'].isin(other_fuels)].groupby(['item_code_new'])\\\n",
    "        .sum().assign(fuel_code = '16_others').reset_index()\n",
    "\n",
    "    total = interim_df1[interim_df1['fuel_code'].isin(total_fuels)].groupby(['item_code_new'])\\\n",
    "        .sum().assign(fuel_code = '19_total').reset_index()\n",
    "\n",
    "    interim_df2 = interim_df1.append([thermal_agg, ngl_agg, oth_pet_agg, jetfuel_agg, \n",
    "                                      coal, coal_prod, oil, petrol, gas, others, total]).reset_index(drop = True)\n",
    "\n",
    "    interim_df2['economy'] = region\n",
    "\n",
    "    EGEDA_aggregate = EGEDA_aggregate.append(interim_df2).reset_index(drop = True)"
   ]
  },
  {
   "cell_type": "code",
   "execution_count": 96,
   "metadata": {},
   "outputs": [],
   "source": [
    "# Load correct order of fuel code and item code. Update this csv based on new entries or desired order\n",
    "\n",
    "ordered = pd.read_csv('../../../data/2_Mapping_and_other/order_2018.csv')\n",
    "# ordered\n",
    "\n",
    "# This grabs the unique values of fuel_code and item_code_new in the order they appear in the original dataframe. It removes 'na' by calling '[:-1]' \n",
    "\n",
    "order1 = list(ordered['fuel_code'].unique())[:-1]\n",
    "order2 = list(ordered['item_code_new'])\n",
    "\n",
    "# Take order defined above and define each of the variables as categorical in that already established order (for the benefit of viewing data later)\n",
    "\n",
    "EGEDA_aggregate['fuel_code'] = pd.Categorical(EGEDA_aggregate['fuel_code'], \n",
    "                                                categories = order1, \n",
    "                                                ordered = True)\n",
    "\n",
    "EGEDA_aggregate['item_code_new'] = pd.Categorical(EGEDA_aggregate['item_code_new'],\n",
    "                                                    categories = order2,\n",
    "                                                    ordered = True)"
   ]
  },
  {
   "cell_type": "code",
   "execution_count": 97,
   "metadata": {},
   "outputs": [],
   "source": [
    "EGEDA_aggregate_sorted = EGEDA_aggregate.sort_values(['economy', 'fuel_code', 'item_code_new']).reset_index(drop = True)"
   ]
  },
  {
   "cell_type": "code",
   "execution_count": 98,
   "metadata": {},
   "outputs": [],
   "source": [
    "# Write file\n",
    "EGEDA_aggregate_sorted.to_csv('../../../data/1_EGEDA/EGEDA_2018_emissions.csv', index = False)"
   ]
  }
 ]
}